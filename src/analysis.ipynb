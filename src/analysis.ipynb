{
 "cells": [
  {
   "cell_type": "code",
   "execution_count": 1,
   "metadata": {},
   "outputs": [
    {
     "name": "stdout",
     "output_type": "stream",
     "text": [
      "Intel MKL WARNING: Support of Intel(R) Streaming SIMD Extensions 4.2 (Intel(R) SSE4.2) enabled only processors has been deprecated. Intel oneAPI Math Kernel Library 2025.0 will require Intel(R) Advanced Vector Extensions (Intel(R) AVX) instructions.\n",
      "Intel MKL WARNING: Support of Intel(R) Streaming SIMD Extensions 4.2 (Intel(R) SSE4.2) enabled only processors has been deprecated. Intel oneAPI Math Kernel Library 2025.0 will require Intel(R) Advanced Vector Extensions (Intel(R) AVX) instructions.\n"
     ]
    },
    {
     "name": "stderr",
     "output_type": "stream",
     "text": [
      "pybullet build time: Oct 14 2023 16:00:51\n"
     ]
    }
   ],
   "source": [
    "import os\n",
    "import argparse\n",
    "import numpy as np\n",
    "import time\n",
    "import matplotlib.pyplot as pyplot\n",
    "\n",
    "from main import run_direct_estimation, run_importance_sampling, run_adaptive_importance_sampling, run_multiple_grasps, run_single_grasp"
   ]
  },
  {
   "cell_type": "code",
   "execution_count": 2,
   "metadata": {},
   "outputs": [],
   "source": [
    "# Define parameters for estimation methods\n",
    "trial_size_increment = 10\n",
    "max_trial_exp = 3\n",
    "gui = False\n",
    "hill = True\n",
    "policy_file = '/Users/jazz/AA228VProjects/FPERG/src/best_hill_climbing_policy.pkl'\n",
    "depth = 5"
   ]
  },
  {
   "cell_type": "code",
   "execution_count": null,
   "metadata": {},
   "outputs": [],
   "source": [
    "# Run direct estimation\n",
    "# stores n, p_failure, std_error, runtime\n",
    "results_de = {'n':[], 'p_fail':[], 'std_error':[], 'runtime':[]}\n",
    "for i in range(max_trial_exp):\n",
    "    start_time = time.time_ns()\n",
    "    trials = trial_size_increment**(i + 1)\n",
    "    p_failure_de, std_error_de = run_direct_estimation(\n",
    "        trials, \n",
    "        gui,\n",
    "        hill,  # Pass hill climbing flag\n",
    "        policy_file if hill else None  # Pass policy file only if using hill climbing\n",
    "    )\n",
    "    end_time = time.time_ns()\n",
    "    runtime_ns = end_time - start_time\n",
    "    results_de['n'].append(trials)\n",
    "    results_de['p_fail'].append(p_failure_de)\n",
    "    results_de['std_error'].append(std_error_de)\n",
    "    results_de['runtime'].append(runtime_ns)\n",
    "    print(f\"\\nFinal Results:\")\n",
    "    print(f\"Failure Probability: {p_failure_de:.4f} ± {std_error_de:.4f}\")\n",
    "    print(f\"95% Confidence Interval: [{p_failure_de - 1.96*std_error_de:.4f}, {p_failure_de + 1.96*std_error_de:.4f}]\")"
   ]
  },
  {
   "cell_type": "code",
   "execution_count": 4,
   "metadata": {},
   "outputs": [
    {
     "name": "stdout",
     "output_type": "stream",
     "text": [
      "\n",
      "Running importance sampling with 10 trials and depth 5...\n",
      "Loaded hill climbing policy from /Users/jazz/AA228VProjects/FPERG/src/best_hill_climbing_policy.pkl\n",
      "Estimated failure probability: 0.500000\n",
      "\n",
      "Final Results:\n",
      "Estimated Failure Probability: 0.5000\n",
      "95% Confidence Interval: [-0.4800, 1.4800]\n",
      "\n",
      "Running importance sampling with 100 trials and depth 5...\n",
      "Loaded hill climbing policy from /Users/jazz/AA228VProjects/FPERG/src/best_hill_climbing_policy.pkl\n",
      "Estimated failure probability: 0.050000\n",
      "\n",
      "Final Results:\n",
      "Estimated Failure Probability: 0.0500\n",
      "95% Confidence Interval: [-0.0131, 0.1131]\n",
      "\n",
      "Running importance sampling with 1000 trials and depth 5...\n",
      "Loaded hill climbing policy from /Users/jazz/AA228VProjects/FPERG/src/best_hill_climbing_policy.pkl\n",
      "Estimated failure probability: 0.005000\n",
      "\n",
      "Final Results:\n",
      "Estimated Failure Probability: 0.0050\n",
      "95% Confidence Interval: [0.0005, 0.0095]\n"
     ]
    }
   ],
   "source": [
    "# Run importance sampling\n",
    "# stores n, p_failure, std_error, runtime\n",
    "results_ims = {'n':[], 'p_fail':[], 'std_error':[], 'runtime':[]}\n",
    "for i in range(max_trial_exp):\n",
    "    start_time = time.time_ns()\n",
    "    trials = trial_size_increment**(i+1)\n",
    "    failure_prob, std_error = run_importance_sampling(\n",
    "            n_trials=trials,\n",
    "            d=depth,\n",
    "            gui_mode=gui,\n",
    "            use_hill_climbing=hill,\n",
    "            policy_file=policy_file if hill else None\n",
    "        )\n",
    "    end_time = time.time_ns()\n",
    "    runtime_ns = end_time - start_time\n",
    "    results_ims['n'].append(trials)\n",
    "    results_ims['p_fail'].append(failure_prob)\n",
    "    results_ims['std_error'].append(std_error)\n",
    "    results_ims['runtime'].append(runtime_ns)\n",
    "    print(f\"\\nFinal Results:\")\n",
    "    print(f\"Estimated Failure Probability: {failure_prob:.4f}\")\n",
    "    print(f\"95% Confidence Interval: [{failure_prob - 1.96*std_error:.4f}, {failure_prob + 1.96*std_error:.4f}]\")"
   ]
  },
  {
   "cell_type": "code",
   "execution_count": 5,
   "metadata": {},
   "outputs": [
    {
     "name": "stdout",
     "output_type": "stream",
     "text": [
      "\n",
      "Running adaptive importance sampling with 10 trials and depth 5...\n",
      "Loaded hill climbing policy from /Users/jazz/AA228VProjects/FPERG/src/best_hill_climbing_policy.pkl\n",
      "Completed 0/100 iterations...\n",
      "Completed 10/100 iterations...\n",
      "Completed 20/100 iterations...\n",
      "Completed 30/100 iterations...\n",
      "Completed 40/100 iterations...\n",
      "Completed 50/100 iterations...\n",
      "Completed 60/100 iterations...\n",
      "Completed 70/100 iterations...\n",
      "Completed 80/100 iterations...\n",
      "Completed 90/100 iterations...\n",
      "Estimated failure probability: 0.500000\n",
      "\n",
      "Final Results:\n",
      "Estimated Failure Probability: 0.5000\n",
      "95% Confidence Interval: [-0.4800, 1.4800]\n",
      "\n",
      "Running adaptive importance sampling with 100 trials and depth 5...\n",
      "Loaded hill climbing policy from /Users/jazz/AA228VProjects/FPERG/src/best_hill_climbing_policy.pkl\n",
      "Completed 0/100 iterations...\n",
      "Completed 10/100 iterations...\n",
      "Completed 20/100 iterations...\n",
      "Completed 30/100 iterations...\n",
      "Completed 40/100 iterations...\n",
      "Completed 50/100 iterations...\n",
      "Completed 60/100 iterations...\n",
      "Completed 70/100 iterations...\n",
      "Completed 80/100 iterations...\n",
      "Completed 90/100 iterations...\n",
      "Estimated failure probability: 0.050000\n",
      "\n",
      "Final Results:\n",
      "Estimated Failure Probability: 0.0500\n",
      "95% Confidence Interval: [-0.0273, 0.1273]\n",
      "\n",
      "Running adaptive importance sampling with 1000 trials and depth 5...\n",
      "Loaded hill climbing policy from /Users/jazz/AA228VProjects/FPERG/src/best_hill_climbing_policy.pkl\n",
      "Completed 0/100 iterations...\n",
      "Completed 10/100 iterations...\n",
      "Completed 20/100 iterations...\n",
      "Completed 30/100 iterations...\n",
      "Completed 40/100 iterations...\n",
      "Completed 50/100 iterations...\n",
      "Completed 60/100 iterations...\n",
      "Completed 70/100 iterations...\n",
      "Completed 80/100 iterations...\n",
      "Completed 90/100 iterations...\n"
     ]
    },
    {
     "name": "stderr",
     "output_type": "stream",
     "text": [
      "/Users/jazz/FPERG/src/estimation/AdaptiveImportanceSampling.py:125: RuntimeWarning: divide by zero encountered in log\n",
      "  log_prob += np.log(dist.initial_state_distribution()[1].pdf(y_obj_pos))\n"
     ]
    },
    {
     "name": "stdout",
     "output_type": "stream",
     "text": [
      "Estimated failure probability: 0.005000\n",
      "\n",
      "Final Results:\n",
      "Estimated Failure Probability: 0.0050\n",
      "95% Confidence Interval: [-0.0035, 0.0135]\n"
     ]
    }
   ],
   "source": [
    "# Run adaptive importance sampling\n",
    "results_aims = {'n':[], 'p_fail':[], 'std_error':[], 'runtime':[]}\n",
    "for i in range(max_trial_exp):\n",
    "    start_time = time.time_ns()\n",
    "    trials = trial_size_increment**(i+1)\n",
    "    failure_prob, std_error = run_adaptive_importance_sampling(\n",
    "            n_trials=trials,\n",
    "            d=depth,\n",
    "            gui_mode=gui,\n",
    "            use_hill_climbing=hill,\n",
    "            policy_file=policy_file if hill else None\n",
    "        )\n",
    "    end_time = time.time_ns()\n",
    "    runtime_ns = end_time - start_time\n",
    "    results_aims['n'].append(trials)\n",
    "    results_aims['p_fail'].append(failure_prob)\n",
    "    results_aims['std_error'].append(std_error)\n",
    "    results_aims['runtime'].append(runtime_ns)\n",
    "    print(f\"\\nFinal Results:\")\n",
    "    print(f\"Estimated Failure Probability: {failure_prob:.4f}\")\n",
    "    print(f\"95% Confidence Interval: [{failure_prob - 1.96*std_error:.4f}, {failure_prob + 1.96*std_error:.4f}]\")"
   ]
  },
  {
   "cell_type": "code",
   "execution_count": null,
   "metadata": {},
   "outputs": [],
   "source": [
    "# failure probability graph\n",
    "pyplot.plot(results_de['n'], results_de['p_fail'])\n",
    "pyplot.plot(results_ims['n'], results_ims['p_fail'])\n",
    "pyplot.plot(results_aims['n'], results_aims['p_fail'])\n",
    "pyplot.legend([\"Direct Estimation\", \"Importance Sampling\", \"Adaptive Importance Sampling\"])\n",
    "pyplot.title(\"Failure Probability vs Number of Trials\")\n",
    "pyplot.show()"
   ]
  },
  {
   "cell_type": "code",
   "execution_count": null,
   "metadata": {},
   "outputs": [],
   "source": [
    "pyplot.plot(results_de['n'], results_de['std_error'])\n",
    "pyplot.plot(results_ims['n'], results_ims['std_error'])\n",
    "pyplot.plot(results_aims['n'], results_aims['std_error'])\n",
    "pyplot.legend([\"Direct Estimation\", \"Importance Sampling\", \"Adaptive Importance Sampling\"])\n",
    "pyplot.title(\"Standard Error vs Number of Trials\")\n",
    "pyplot.show()"
   ]
  },
  {
   "cell_type": "code",
   "execution_count": null,
   "metadata": {},
   "outputs": [],
   "source": [
    "pyplot.plot(results_de['n'], results_de['runtime'])\n",
    "pyplot.plot(results_ims['n'], results_ims['runtime'])\n",
    "pyplot.plot(results_aims['n'], results_aims['runtime'])\n",
    "pyplot.legend([\"Direct Estimation\", \"Importance Sampling\", \"Adaptive Importance Sampling\"])\n",
    "pyplot.title(\"Runtime vs Number of Trials\")\n",
    "pyplot.show()"
   ]
  }
 ],
 "metadata": {
  "kernelspec": {
   "display_name": "Python 3.10.14 ('cs224n')",
   "language": "python",
   "name": "python3"
  },
  "language_info": {
   "codemirror_mode": {
    "name": "ipython",
    "version": 3
   },
   "file_extension": ".py",
   "mimetype": "text/x-python",
   "name": "python",
   "nbconvert_exporter": "python",
   "pygments_lexer": "ipython3",
   "version": "3.10.14"
  },
  "orig_nbformat": 4,
  "vscode": {
   "interpreter": {
    "hash": "4b3c75357af6b48f81ab0a829a085402270e7f10bbbc336a66c8df4c15815b44"
   }
  }
 },
 "nbformat": 4,
 "nbformat_minor": 2
}
