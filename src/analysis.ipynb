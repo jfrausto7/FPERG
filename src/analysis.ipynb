{
 "cells": [
  {
   "cell_type": "code",
   "execution_count": 9,
   "metadata": {},
   "outputs": [],
   "source": [
    "import os\n",
    "import argparse\n",
    "import numpy as np\n",
    "import time\n",
    "import matplotlib.pyplot as pyplot\n",
    "\n",
    "from main import run_direct_estimation, run_importance_sampling, run_adaptive_importance_sampling, run_multiple_grasps, run_single_grasp"
   ]
  },
  {
   "cell_type": "code",
   "execution_count": 10,
   "metadata": {},
   "outputs": [],
   "source": [
    "# Define parameters for estimation methods\n",
    "trial_size_increment = 10\n",
    "max_trial_exp = 3\n",
    "gui = False\n",
    "hill = True\n",
    "policy_file = './best_hill_climbing_policy.pkl'\n",
    "depth = 1000\n",
    "np.random.seed(42)"
   ]
  },
  {
   "cell_type": "code",
   "execution_count": 14,
   "metadata": {},
   "outputs": [
    {
     "name": "stdout",
     "output_type": "stream",
     "text": [
      "\n",
      "Running direct estimation with 10 trials...\n",
      "Using hill climbing policy\n",
      "Loaded hill climbing policy from ./best_hill_climbing_policy.pkl\n",
      "Starting direct estimation with 10 trials...\n",
      "Completed 0/10 trials...\n",
      "\n",
      "Results:\n",
      "Failure Probability: 0.0000 ± 0.0000\n",
      "Based on 0 failures in 10 trials\n",
      "Results saved to results/direct_estimation_results_hill_climbing.csv\n",
      "\n",
      "Final Results:\n",
      "Failure Probability: 0.0000 ± 0.0000\n",
      "95% Confidence Interval: [0.0000, 0.0000]\n",
      "\n",
      "Running direct estimation with 100 trials...\n",
      "Using hill climbing policy\n",
      "Loaded hill climbing policy from ./best_hill_climbing_policy.pkl\n",
      "Starting direct estimation with 100 trials...\n",
      "Completed 0/100 trials...\n",
      "Completed 50/100 trials...\n",
      "\n",
      "Results:\n",
      "Failure Probability: 0.0300 ± 0.0171\n",
      "Based on 3 failures in 100 trials\n",
      "Results saved to results/direct_estimation_results_hill_climbing.csv\n",
      "\n",
      "Final Results:\n",
      "Failure Probability: 0.0300 ± 0.0171\n",
      "95% Confidence Interval: [-0.0034, 0.0634]\n",
      "\n",
      "Running direct estimation with 1000 trials...\n",
      "Using hill climbing policy\n",
      "Loaded hill climbing policy from ./best_hill_climbing_policy.pkl\n",
      "Starting direct estimation with 1000 trials...\n",
      "Completed 0/1000 trials...\n",
      "Completed 50/1000 trials...\n",
      "Completed 100/1000 trials...\n",
      "Completed 150/1000 trials...\n",
      "Completed 200/1000 trials...\n",
      "Completed 250/1000 trials...\n",
      "Completed 300/1000 trials...\n",
      "Completed 350/1000 trials...\n",
      "Completed 400/1000 trials...\n",
      "Completed 450/1000 trials...\n",
      "Completed 500/1000 trials...\n",
      "Completed 550/1000 trials...\n",
      "Completed 600/1000 trials...\n",
      "Completed 650/1000 trials...\n",
      "Completed 700/1000 trials...\n",
      "Completed 750/1000 trials...\n",
      "Completed 800/1000 trials...\n",
      "Completed 850/1000 trials...\n",
      "Completed 900/1000 trials...\n",
      "Completed 950/1000 trials...\n",
      "\n",
      "Results:\n",
      "Failure Probability: 0.0140 ± 0.0037\n",
      "Based on 14 failures in 1000 trials\n",
      "Results saved to results/direct_estimation_results_hill_climbing.csv\n",
      "\n",
      "Final Results:\n",
      "Failure Probability: 0.0140 ± 0.0037\n",
      "95% Confidence Interval: [0.0067, 0.0213]\n"
     ]
    }
   ],
   "source": [
    "# Run direct estimation\n",
    "# stores n, p_failure, std_error, runtime\n",
    "results_de = {'n':[], 'p_fail':[], 'std_error':[], 'runtime':[]}\n",
    "for i in range(max_trial_exp):\n",
    "    start_time = time.time_ns()\n",
    "    trials = trial_size_increment**(i + 1)\n",
    "    p_failure_de, std_error_de = run_direct_estimation(\n",
    "        trials, \n",
    "        gui,\n",
    "        hill,  # Pass hill climbing flag\n",
    "        policy_file if hill else None  # Pass policy file only if using hill climbing\n",
    "    )\n",
    "    end_time = time.time_ns()\n",
    "    runtime_ns = end_time - start_time\n",
    "    results_de['n'].append(trials)\n",
    "    results_de['p_fail'].append(p_failure_de)\n",
    "    results_de['std_error'].append(std_error_de)\n",
    "    results_de['runtime'].append(runtime_ns)\n",
    "    print(f\"\\nFinal Results:\")\n",
    "    print(f\"Failure Probability: {p_failure_de:.4f} ± {std_error_de:.4f}\")\n",
    "    print(f\"95% Confidence Interval: [{p_failure_de - 1.96*std_error_de:.4f}, {p_failure_de + 1.96*std_error_de:.4f}]\")"
   ]
  },
  {
   "cell_type": "code",
   "execution_count": null,
   "metadata": {},
   "outputs": [
    {
     "name": "stdout",
     "output_type": "stream",
     "text": [
      "\n",
      "Running importance sampling with 10 trials and depth 1000...\n",
      "Loaded hill climbing policy from ./best_hill_climbing_policy.pkl\n",
      "Running importance sampling with 20 samples...\n",
      "Estimated failure probability: 0.191669\n",
      "\n",
      "Final Results:\n",
      "Estimated Failure Probability: 0.1917\n",
      "95% Confidence Interval: [0.0551, 0.3283]\n",
      "\n",
      "Running importance sampling with 100 trials and depth 1000...\n",
      "Loaded hill climbing policy from ./best_hill_climbing_policy.pkl\n",
      "Running importance sampling with 33 samples...\n",
      "Estimated failure probability: 0.069333\n",
      "\n",
      "Final Results:\n",
      "Estimated Failure Probability: 0.0693\n",
      "95% Confidence Interval: [0.0374, 0.1012]\n",
      "\n",
      "Running importance sampling with 1000 trials and depth 1000...\n",
      "Loaded hill climbing policy from ./best_hill_climbing_policy.pkl\n",
      "Running importance sampling with 46 samples...\n",
      "Estimated failure probability: 0.057344\n",
      "\n",
      "Final Results:\n",
      "Estimated Failure Probability: 0.0573\n",
      "95% Confidence Interval: [0.0343, 0.0804]\n"
     ]
    }
   ],
   "source": [
    "# Run importance sampling\n",
    "# stores n, p_failure, std_error, runtime\n",
    "results_ims = {'n':[], 'p_fail':[], 'std_error':[], 'runtime':[]}\n",
    "for i in range(max_trial_exp):\n",
    "    start_time = time.time_ns()\n",
    "    trials = trial_size_increment**(i+1)\n",
    "    failure_prob, std_error = run_importance_sampling(\n",
    "            n_trials=trials,\n",
    "            d=depth,\n",
    "            gui_mode=gui,\n",
    "            use_hill_climbing=hill,\n",
    "            policy_file=policy_file if hill else None\n",
    "        )\n",
    "    end_time = time.time_ns()\n",
    "    runtime_ns = end_time - start_time\n",
    "    results_ims['n'].append(trials)\n",
    "    results_ims['p_fail'].append(failure_prob)\n",
    "    results_ims['std_error'].append(std_error)\n",
    "    results_ims['runtime'].append(runtime_ns)\n",
    "    print(f\"\\nFinal Results:\")\n",
    "    print(f\"Estimated Failure Probability: {failure_prob:.4f}\")\n",
    "    print(f\"95% Confidence Interval: [{failure_prob - 1.96*std_error:.4f}, {failure_prob + 1.96*std_error:.4f}]\")"
   ]
  },
  {
   "cell_type": "code",
   "execution_count": null,
   "metadata": {},
   "outputs": [
    {
     "name": "stdout",
     "output_type": "stream",
     "text": [
      "\n",
      "Running adaptive importance sampling with 10 trials and depth 1000...\n",
      "Loaded hill climbing policy from ./best_hill_climbing_policy.pkl\n",
      "Completed 0/10 iterations...\n",
      "Estimated failure probability: 0.278571\n",
      "\n",
      "Final Results:\n",
      "Estimated Failure Probability: 0.2786\n",
      "95% Confidence Interval: [-0.2096, 0.7667]\n",
      "\n",
      "Running adaptive importance sampling with 100 trials and depth 1000...\n",
      "Loaded hill climbing policy from ./best_hill_climbing_policy.pkl\n",
      "Completed 0/10 iterations...\n",
      "Estimated failure probability: 0.092959\n",
      "\n",
      "Final Results:\n",
      "Estimated Failure Probability: 0.0930\n",
      "95% Confidence Interval: [-0.2621, 0.4480]\n",
      "\n",
      "Running adaptive importance sampling with 1000 trials and depth 1000...\n",
      "Loaded hill climbing policy from ./best_hill_climbing_policy.pkl\n",
      "Completed 0/10 iterations...\n",
      "Estimated failure probability: 0.099893\n",
      "\n",
      "Final Results:\n",
      "Estimated Failure Probability: 0.0999\n",
      "95% Confidence Interval: [-0.3666, 0.5664]\n"
     ]
    }
   ],
   "source": [
    "# Run adaptive importance sampling\n",
    "results_aims = {'n':[], 'p_fail':[], 'std_error':[], 'runtime':[]}\n",
    "for i in range(max_trial_exp):\n",
    "    start_time = time.time_ns()\n",
    "    trials = trial_size_increment**(i+1)\n",
    "    failure_prob, std_error = run_adaptive_importance_sampling(\n",
    "            n_trials=trials,\n",
    "            d=depth,\n",
    "            gui_mode=gui,\n",
    "            use_hill_climbing=hill,\n",
    "            policy_file=policy_file if hill else None\n",
    "        )\n",
    "    end_time = time.time_ns()\n",
    "    runtime_ns = end_time - start_time\n",
    "    results_aims['n'].append(trials)\n",
    "    results_aims['p_fail'].append(failure_prob)\n",
    "    results_aims['std_error'].append(std_error)\n",
    "    results_aims['runtime'].append(runtime_ns)\n",
    "    print(f\"\\nFinal Results:\")\n",
    "    print(f\"Estimated Failure Probability: {failure_prob:.4f}\")\n",
    "    print(f\"95% Confidence Interval: [{failure_prob - 1.96*std_error:.4f}, {failure_prob + 1.96*std_error:.4f}]\")"
   ]
  },
  {
   "cell_type": "code",
   "execution_count": 16,
   "metadata": {},
   "outputs": [
    {
     "data": {
      "image/png": "[encoded data removed]",
      "text/plain": [
       "<Figure size 640x480 with 1 Axes>"
      ]
     },
     "metadata": {},
     "output_type": "display_data"
    }
   ],
   "source": [
    "# failure probability graph\n",
    "pyplot.plot(results_de['n'], results_de['runtime'])\n",
    "pyplot.plot(results_ims['n'], results_ims['runtime'])\n",
    "pyplot.plot(results_aims['n'], results_aims['runtime'])\n",
    "pyplot.legend([\"Direct Estimation\", \"Importance Sampling\", \"Adaptive Importance Sampling\"])\n",
    "pyplot.title(\"Standard Error vs Number of Trials\")\n",
    "pyplot.show()"
   ]
  }
 ],
 "metadata": {
  "kernelspec": {
   "display_name": "FPERG",
   "language": "python",
   "name": "python3"
  },
  "language_info": {
   "codemirror_mode": {
    "name": "ipython",
    "version": 3
   },
   "file_extension": ".py",
   "mimetype": "text/x-python",
   "name": "python",
   "nbconvert_exporter": "python",
   "pygments_lexer": "ipython3",
   "version": "3.9.21"
  },
  "orig_nbformat": 4
 },
 "nbformat": 4,
 "nbformat_minor": 2
}
